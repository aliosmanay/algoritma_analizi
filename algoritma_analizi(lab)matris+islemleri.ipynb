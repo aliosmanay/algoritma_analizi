{
 "cells": [
  {
   "cell_type": "code",
   "execution_count": 18,
   "metadata": {
    "collapsed": false
   },
   "outputs": [],
   "source": [
    "def create_A_vector(size):\n",
    "    my_vector=[]\n",
    "    for i in range(size):\n",
    "        my_vector.append(randint(0,9))\n",
    "    return my_vector\n"
   ]
  },
  {
   "cell_type": "code",
   "execution_count": 17,
   "metadata": {
    "collapsed": false
   },
   "outputs": [],
   "source": [
    "def vector_inner_product(v1,v2):\n",
    "    if(len(v1)!= len(v2)):\n",
    "        print(\"vectorler aynı boyutta olmalı\")\n",
    "        return\n",
    "    result=0\n",
    "    for i in range(len(v1)):\n",
    "        result=result+v1[i]*v2[i]\n",
    "    return result"
   ]
  },
  {
   "cell_type": "code",
   "execution_count": 13,
   "metadata": {
    "collapsed": false
   },
   "outputs": [
    {
     "name": "stdout",
     "output_type": "stream",
     "text": [
      "6\n"
     ]
    }
   ],
   "source": [
    "from random import randint\n",
    "print(randint(0,9))"
   ]
  },
  {
   "cell_type": "code",
   "execution_count": 23,
   "metadata": {
    "collapsed": false
   },
   "outputs": [
    {
     "data": {
      "text/plain": [
       "[[0, 7, 0], [9, 4, 6]]"
      ]
     },
     "execution_count": 23,
     "metadata": {},
     "output_type": "execute_result"
    }
   ],
   "source": [
    "def create_a_matrix(m,n):\n",
    "    my_matrix=[]\n",
    "    for i in range(m):\n",
    "        my_matrix.append(create_A_vector(n))\n",
    "    return my_matrix\n",
    "a=create_a_matrix(2,3)\n",
    "a"
   ]
  },
  {
   "cell_type": "code",
   "execution_count": 24,
   "metadata": {
    "collapsed": false
   },
   "outputs": [
    {
     "data": {
      "text/plain": [
       "(2, 3)"
      ]
     },
     "execution_count": 24,
     "metadata": {},
     "output_type": "execute_result"
    }
   ],
   "source": [
    "len(a), len(a[0])"
   ]
  },
  {
   "cell_type": "code",
   "execution_count": 35,
   "metadata": {
    "collapsed": false
   },
   "outputs": [
    {
     "data": {
      "text/plain": [
       "([[42, 106, 34, 74, 94], [37, 109, 29, 77, 91]], 30)"
      ]
     },
     "execution_count": 35,
     "metadata": {},
     "output_type": "execute_result"
    }
   ],
   "source": [
    "def matrix_multi(a,b):\n",
    "    m=len(a)\n",
    "    n=len(a[0])\n",
    "    p=len(b[0])\n",
    "    my_matrix=create_a_matrix(m,p)\n",
    "    for i in range(m):\n",
    "        for j in range(p):\n",
    "            vector_1=a[i]\n",
    "            vector_2=[i[j] for i in b]\n",
    "            \n",
    "            my_matrix[i][j]=vector_inner_product(vector_1,vector_2)\n",
    "            \n",
    "    \n",
    "    return (my_matrix,m*n*p)\n",
    "\n",
    "matrix_multi(a,b)"
   ]
  },
  {
   "cell_type": "code",
   "execution_count": 36,
   "metadata": {
    "collapsed": false
   },
   "outputs": [
    {
     "data": {
      "text/plain": [
       "[[4, 6, 8], [2, 7, 8]]"
      ]
     },
     "execution_count": 36,
     "metadata": {},
     "output_type": "execute_result"
    }
   ],
   "source": [
    "a"
   ]
  },
  {
   "cell_type": "code",
   "execution_count": 37,
   "metadata": {
    "collapsed": false
   },
   "outputs": [
    {
     "data": {
      "text/plain": [
       "[[3, 1, 4, 1, 3], [1, 5, 3, 5, 3], [3, 9, 0, 5, 8]]"
      ]
     },
     "execution_count": 37,
     "metadata": {},
     "output_type": "execute_result"
    }
   ],
   "source": [
    "b"
   ]
  },
  {
   "cell_type": "code",
   "execution_count": 38,
   "metadata": {
    "collapsed": false
   },
   "outputs": [
    {
     "name": "stdout",
     "output_type": "stream",
     "text": [
      "[3, 6, 3, 0, 0, 3, 0, 7, 9, 1] [8, 9, 9, 8, 0, 9, 0, 9, 1, 6]\n"
     ]
    },
    {
     "data": {
      "text/plain": [
       "210"
      ]
     },
     "execution_count": 38,
     "metadata": {},
     "output_type": "execute_result"
    }
   ],
   "source": [
    "size=10\n",
    "my_vector_1=create_A_vector(size)\n",
    "my_vector_2=create_A_vector(size)\n",
    "print(my_vector_1,my_vector_2)\n",
    "vector_product=vector_inner_product(my_vector_1,my_vector_2)\n",
    "vector_product"
   ]
  },
  {
   "cell_type": "code",
   "execution_count": 42,
   "metadata": {
    "collapsed": false
   },
   "outputs": [
    {
     "name": "stdout",
     "output_type": "stream",
     "text": [
      "([[37705750, 112315000, 57762000]], 15) toplam islem sayisi: 11020\n"
     ]
    }
   ],
   "source": [
    "a_1=create_a_matrix(1,10)\n",
    "a_2=create_a_matrix(10,1000)\n",
    "a_3=create_a_matrix(1000,1)\n",
    "a_4=create_a_matrix(1,5)\n",
    "a_5=create_a_matrix(5,3)\n",
    "\n",
    "islem_sayisi=0\n",
    "r_1=matrix_multi(a_1,a_2)\n",
    "islem_sayisi=islem_sayisi+r_1[1]\n",
    "\n",
    "r_1=matrix_multi(r_1[0],a_3)\n",
    "islem_sayisi=islem_sayisi+r_1[1]\n",
    "\n",
    "r_1=matrix_multi(r_1[0],a_4)\n",
    "islem_sayisi=islem_sayisi+r_1[1]\n",
    "\n",
    "r_1=matrix_multi(r_1[0],a_5)\n",
    "islem_sayisi=islem_sayisi+r_1[1]\n",
    "\n",
    "print(r_1,\"toplam islem sayisi:\", islem_sayisi)"
   ]
  },
  {
   "cell_type": "code",
   "execution_count": 44,
   "metadata": {
    "collapsed": false
   },
   "outputs": [
    {
     "name": "stdout",
     "output_type": "stream",
     "text": [
      "([[24679393497, 143506102927, 72210077269]], 15) toplam islem sayisi: 10010020\n"
     ]
    }
   ],
   "source": [
    "a_1=create_a_matrix(1,1000)\n",
    "a_2=create_a_matrix(1000,10000)\n",
    "a_3=create_a_matrix(10000,1)\n",
    "a_4=create_a_matrix(1,5)\n",
    "a_5=create_a_matrix(5,3)\n",
    "\n",
    "islem_sayisi=0\n",
    "r_1=matrix_multi(a_1,a_2)\n",
    "islem_sayisi=islem_sayisi+r_1[1]\n",
    "\n",
    "r_1=matrix_multi(r_1[0],a_3)\n",
    "islem_sayisi=islem_sayisi+r_1[1]\n",
    "\n",
    "r_1=matrix_multi(r_1[0],a_4)\n",
    "islem_sayisi=islem_sayisi+r_1[1]\n",
    "\n",
    "r_1=matrix_multi(r_1[0],a_5)\n",
    "islem_sayisi=islem_sayisi+r_1[1]\n",
    "\n",
    "print(r_1,\"toplam islem sayisi:\", islem_sayisi)"
   ]
  },
  {
   "cell_type": "code",
   "execution_count": null,
   "metadata": {
    "collapsed": true
   },
   "outputs": [],
   "source": []
  }
 ],
 "metadata": {
  "anaconda-cloud": {},
  "kernelspec": {
   "display_name": "Python [conda root]",
   "language": "python",
   "name": "conda-root-py"
  },
  "language_info": {
   "codemirror_mode": {
    "name": "ipython",
    "version": 3
   },
   "file_extension": ".py",
   "mimetype": "text/x-python",
   "name": "python",
   "nbconvert_exporter": "python",
   "pygments_lexer": "ipython3",
   "version": "3.5.2"
  }
 },
 "nbformat": 4,
 "nbformat_minor": 1
}
