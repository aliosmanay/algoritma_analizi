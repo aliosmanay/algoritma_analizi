{
 "cells": [
  {
   "cell_type": "code",
   "execution_count": 33,
   "metadata": {
    "collapsed": false
   },
   "outputs": [
    {
     "name": "stdout",
     "output_type": "stream",
     "text": [
      "hash yapısı:\n",
      "1933250708911784419\n"
     ]
    }
   ],
   "source": [
    "#heap\n",
    "class Person:\n",
    "    def __init__(self, age, name):\n",
    "        self.age = age\n",
    "        self.name = name\n",
    "\n",
    "    def __eq__(self, other):\n",
    "        return self.age == other.age and self.name == other.name\n",
    "\n",
    "    def __hash__(self):\n",
    "        print(\"hash yapısı:\")\n",
    "        return hash((self.age, self.name))\n",
    "\n",
    "person = Person(23, 'Adam')\n",
    "print(hash(person))"
   ]
  },
  {
   "cell_type": "code",
   "execution_count": 34,
   "metadata": {
    "collapsed": false
   },
   "outputs": [
    {
     "name": "stdout",
     "output_type": "stream",
     "text": [
      "hash yapısı:\n",
      "1933249593693446894\n"
     ]
    }
   ],
   "source": [
    "person = Person(22, 'Adam')\n",
    "print(hash(person))"
   ]
  },
  {
   "cell_type": "code",
   "execution_count": 42,
   "metadata": {
    "collapsed": false
   },
   "outputs": [
    {
     "name": "stdout",
     "output_type": "stream",
     "text": [
      "2\n",
      "3\n",
      "5\n",
      "6\n",
      "8\n",
      "9\n",
      "20\n"
     ]
    }
   ],
   "source": [
    "#hash\n",
    "class agac:\n",
    "    def __init__(self):\n",
    "        self.heapList = [0]\n",
    "        self.currentSize = 0\n",
    "\n",
    "\n",
    "    def yukarı(self,i):\n",
    "        while i // 2 > 0:\n",
    "          if self.heapList[i] < self.heapList[i // 2]:\n",
    "             tmp = self.heapList[i // 2]\n",
    "             self.heapList[i // 2] = self.heapList[i]\n",
    "             self.heapList[i] = tmp\n",
    "          i = i // 2\n",
    "\n",
    "    def ekle(self,k):\n",
    "      self.heapList.append(k)\n",
    "      self.currentSize = self.currentSize + 1\n",
    "      self.percUp(self.currentSize)\n",
    "\n",
    "    def asagı(self,i):\n",
    "      while (i * 2) <= self.currentSize:\n",
    "          mc = self.cocuk(i)\n",
    "          if self.heapList[i] > self.heapList[mc]:\n",
    "              tmp = self.heapList[i]\n",
    "              self.heapList[i] = self.heapList[mc]\n",
    "              self.heapList[mc] = tmp\n",
    "          i = mc\n",
    "\n",
    "    def cocuk(self,i):\n",
    "      if i * 2 + 1 > self.currentSize:\n",
    "          return i * 2\n",
    "      else:\n",
    "          if self.heapList[i*2] < self.heapList[i*2+1]:\n",
    "              return i * 2\n",
    "          else:\n",
    "              return i * 2 + 1\n",
    "\n",
    "    def kucukSil(self):\n",
    "      retval = self.heapList[1]\n",
    "      self.heapList[1] = self.heapList[self.currentSize]\n",
    "      self.currentSize = self.currentSize - 1\n",
    "      self.heapList.pop()\n",
    "      self.asagı(1)\n",
    "      return retval\n",
    "\n",
    "    def yeniAgac(self,alist):\n",
    "      i = len(alist) // 2\n",
    "      self.currentSize = len(alist)\n",
    "      self.heapList = [0] + alist[:]\n",
    "      while (i > 0):\n",
    "          self.asagı(i)\n",
    "          i = i - 1\n",
    "\n",
    "bh = agac()\n",
    "bh.yeniAgac([9,5,6,2,3,8,20])\n",
    "\n",
    "print(bh.kucukSil())\n",
    "print(bh.kucukSil())\n",
    "print(bh.kucukSil())\n",
    "print(bh.kucukSil())\n",
    "print(bh.kucukSil())\n",
    "print(bh.kucukSil())\n",
    "print(bh.kucukSil())\n"
   ]
  },
  {
   "cell_type": "code",
   "execution_count": null,
   "metadata": {
    "collapsed": true
   },
   "outputs": [],
   "source": []
  }
 ],
 "metadata": {
  "kernelspec": {
   "display_name": "Python 3",
   "language": "python",
   "name": "python3"
  },
  "language_info": {
   "codemirror_mode": {
    "name": "ipython",
    "version": 3
   },
   "file_extension": ".py",
   "mimetype": "text/x-python",
   "name": "python",
   "nbconvert_exporter": "python",
   "pygments_lexer": "ipython3",
   "version": "3.6.0"
  }
 },
 "nbformat": 4,
 "nbformat_minor": 2
}
