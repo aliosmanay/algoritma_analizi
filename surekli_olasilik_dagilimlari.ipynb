{
 "cells": [
  {
   "cell_type": "code",
   "execution_count": 104,
   "metadata": {
    "collapsed": true
   },
   "outputs": [],
   "source": [
    "\n",
    "import numpy as np\n",
    "import matplotlib.pyplot as plt\n",
    "from sympy import *\n",
    "import math\n"
   ]
  },
  {
   "cell_type": "code",
   "execution_count": 105,
   "metadata": {
    "collapsed": false
   },
   "outputs": [],
   "source": [
    "#UNIFORM DAGILIM\n",
    "#x a ve b arasında olmalı a<x<b\n",
    "def uniform_olasilik(a,b,c):\n",
    "    if(a<b):\n",
    "        x=Symbol('x')                    \n",
    "        f=1/(b-a)\n",
    "        sonuc= integrate(f,(x,b-c,b))\n",
    "        plt.plot(sonuc,'y')\n",
    "        plt.legend('uniform')\n",
    "        plt.show()\n",
    "        \n",
    "    else:\n",
    "        print(\"yanlıs girdiniz:\")"
   ]
  },
  {
   "cell_type": "code",
   "execution_count": 106,
   "metadata": {
    "collapsed": false
   },
   "outputs": [
    {
     "data": {
      "image/png": "[encoded data removed]",
      "text/plain": [
       "<matplotlib.figure.Figure at 0x23eeb182cf8>"
      ]
     },
     "metadata": {},
     "output_type": "display_data"
    }
   ],
   "source": [
    "uniform_olasilik(0,30,5)"
   ]
  },
  {
   "cell_type": "code",
   "execution_count": 107,
   "metadata": {
    "collapsed": false
   },
   "outputs": [],
   "source": [
    "#NORMAL DAĞILIM\n",
    "class normal:\n",
    "    def __init__(self, mu, sigma):\n",
    "        self.mu = mu\n",
    "        self.sigma = sigma\n",
    "        \n",
    "    def get(self,x):\n",
    "        return normal.n_dagilim(x, self.mu, self.sigma)\n",
    "\n",
    "    @staticmethod\n",
    "    def n_dagilim(x, mu, sigma):\n",
    "        return ( 1. / np.sqrt(2*np.pi) * sigma ) * np.exp( -0.5 * (x-mu/sigma)**2 ) \n",
    "\n",
    "\n"
   ]
  },
  {
   "cell_type": "code",
   "execution_count": 108,
   "metadata": {
    "collapsed": false
   },
   "outputs": [
    {
     "data": {
      "image/png": "[encoded data removed]",
      "text/plain": [
       "<matplotlib.figure.Figure at 0x23eeb1825f8>"
      ]
     },
     "metadata": {},
     "output_type": "display_data"
    }
   ],
   "source": [
    "x = np.arange(-5,5,0.01)\n",
    "\n",
    "g1 = normal(0,0.5)\n",
    "\n",
    "y1 = [g1.get(i) for i in x]\n",
    "plt.plot(x,y1,'y')\n",
    "plt.legend(['ilk','ikinci','sonuc'])\n",
    "plt.show()"
   ]
  },
  {
   "cell_type": "code",
   "execution_count": 136,
   "metadata": {
    "collapsed": false
   },
   "outputs": [],
   "source": [
    "#USTEL DAGILIM\n",
    "#ustel dağılım lamda>0 olmalı\n",
    "\n",
    "def ustel_dagilim(lamda,x):\n",
    "    if(lamda>0):\n",
    "        beta = 1.0/lamda\n",
    "\n",
    "        Y = np.random.exponential(beta, 5000)\n",
    "        plt.hist(Y, normed=True, bins=200,lw=0,alpha=.8)\n",
    "        plt.plot([0,max(Y)],[lamda,lamda],'r--')\n",
    "        plt.ylim(0,lamda*1.1)\n",
    "        plt.show()\n",
    "    else:\n",
    "        print(\"lamda 0 dan buyuk olmalı\")"
   ]
  },
  {
   "cell_type": "code",
   "execution_count": 137,
   "metadata": {
    "collapsed": false
   },
   "outputs": [
    {
     "data": {
      "image/png": "[encoded data removed]",
      "text/plain": [
       "<matplotlib.figure.Figure at 0x23eeb3a3908>"
      ]
     },
     "metadata": {},
     "output_type": "display_data"
    }
   ],
   "source": [
    "ustel_dagilim(5,2)"
   ]
  },
  {
   "cell_type": "code",
   "execution_count": null,
   "metadata": {
    "collapsed": true
   },
   "outputs": [],
   "source": []
  }
 ],
 "metadata": {
  "kernelspec": {
   "display_name": "Python 3",
   "language": "python",
   "name": "python3"
  },
  "language_info": {
   "codemirror_mode": {
    "name": "ipython",
    "version": 3
   },
   "file_extension": ".py",
   "mimetype": "text/x-python",
   "name": "python",
   "nbconvert_exporter": "python",
   "pygments_lexer": "ipython3",
   "version": "3.6.0"
  }
 },
 "nbformat": 4,
 "nbformat_minor": 2
}
